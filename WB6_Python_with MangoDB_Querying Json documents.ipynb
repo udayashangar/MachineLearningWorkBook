{
 "cells": [
  {
   "cell_type": "markdown",
   "metadata": {},
   "source": [
    "## Python with MangoDB_Querying Json documents"
   ]
  },
  {
   "cell_type": "code",
   "execution_count": 1,
   "metadata": {},
   "outputs": [],
   "source": [
    "## importing pymongo\n",
    "import pymongo\n",
    "\n",
    "## connecting mangodb\n",
    "client = pymongo.MongoClient('mongodb://127.0.0.1:27017/')"
   ]
  },
  {
   "cell_type": "code",
   "execution_count": 45,
   "metadata": {},
   "outputs": [],
   "source": [
    "## create databse\n",
    "mydb = client['Employee']\n",
    "              \n",
    "## craeting collection\n",
    "empinfo = mydb.employeeinformation"
   ]
  },
  {
   "cell_type": "code",
   "execution_count": 46,
   "metadata": {},
   "outputs": [
    {
     "data": {
      "text/plain": [
       "<pymongo.results.InsertOneResult at 0x1095e6910>"
      ]
     },
     "execution_count": 46,
     "metadata": {},
     "output_type": "execute_result"
    }
   ],
   "source": [
    "## creating records\n",
    "## creating records\n",
    "record ={\n",
    "            'firstname':'Udaya',\n",
    "            'secondname':'Shangar',\n",
    "            'department':'DataScience',\n",
    "            'role':'Data Scientist',\n",
    "            'qualification':'BE',\n",
    "            'age':33\n",
    "        }\n",
    "\n",
    "## inserting records in db\n",
    "empinfo.insert_one(record)"
   ]
  },
  {
   "cell_type": "code",
   "execution_count": 47,
   "metadata": {},
   "outputs": [
    {
     "data": {
      "text/plain": [
       "<pymongo.results.InsertManyResult at 0x109114be0>"
      ]
     },
     "execution_count": 47,
     "metadata": {},
     "output_type": "execute_result"
    }
   ],
   "source": [
    "## creating multiple records\n",
    "record2 =[{\n",
    "            'firstname':'Gowri',\n",
    "            'secondname':'Sankar',\n",
    "            'department':'Data Analytics',\n",
    "            'qualification':'Masters',\n",
    "            'age':31\n",
    "        },\n",
    "        {\n",
    "            'firstname':'Saravana',\n",
    "            'secondname':'Kuram',\n",
    "            'department':'DataEngineer',\n",
    "            'qualification':'Phd',\n",
    "            'age':37,\n",
    "            'Mobile':'98435'\n",
    "        },\n",
    "        {\n",
    "            'firstname':'Aathi',\n",
    "            'secondname':'Raj',\n",
    "            'department':'Data Analytics',\n",
    "            'qualification':'Masters',\n",
    "            'age':35\n",
    "        }\n",
    "    ]\n",
    "## inserting records in db\n",
    "empinfo.insert_many(record2)"
   ]
  },
  {
   "cell_type": "markdown",
   "metadata": {},
   "source": [
    "## Simple way of Querying"
   ]
  },
  {
   "cell_type": "code",
   "execution_count": 48,
   "metadata": {},
   "outputs": [
    {
     "data": {
      "text/plain": [
       "{'_id': ObjectId('5f12e274b0e5829743abd0b3'),\n",
       " 'firstname': 'Udaya',\n",
       " 'secondname': 'Shangar',\n",
       " 'department': 'DataScience',\n",
       " 'role': 'Data Scientist',\n",
       " 'qualification': 'BE',\n",
       " 'age': 33}"
      ]
     },
     "execution_count": 48,
     "metadata": {},
     "output_type": "execute_result"
    }
   ],
   "source": [
    "# Querying Single Record - Top record\n",
    "empinfo.find_one()"
   ]
  },
  {
   "cell_type": "code",
   "execution_count": 49,
   "metadata": {},
   "outputs": [
    {
     "name": "stdout",
     "output_type": "stream",
     "text": [
      "{'_id': ObjectId('5f12e274b0e5829743abd0b3'), 'firstname': 'Udaya', 'secondname': 'Shangar', 'department': 'DataScience', 'role': 'Data Scientist', 'qualification': 'BE', 'age': 33}\n",
      "{'_id': ObjectId('5f12e275b0e5829743abd0b4'), 'firstname': 'Gowri', 'secondname': 'Sankar', 'department': 'Data Analytics', 'qualification': 'Masters', 'age': 31}\n",
      "{'_id': ObjectId('5f12e275b0e5829743abd0b5'), 'firstname': 'Saravana', 'secondname': 'Kuram', 'department': 'DataEngineer', 'qualification': 'Phd', 'age': 37, 'Mobile': '98435'}\n",
      "{'_id': ObjectId('5f12e275b0e5829743abd0b6'), 'firstname': 'Aathi', 'secondname': 'Raj', 'department': 'Data Analytics', 'qualification': 'Masters', 'age': 35}\n"
     ]
    }
   ],
   "source": [
    "## Querying all the JSON Documents\n",
    "for record in empinfo.find({}):\n",
    "    print(record)"
   ]
  },
  {
   "cell_type": "code",
   "execution_count": 50,
   "metadata": {},
   "outputs": [
    {
     "name": "stdout",
     "output_type": "stream",
     "text": [
      "{'_id': ObjectId('5f12e275b0e5829743abd0b4'), 'firstname': 'Gowri', 'secondname': 'Sankar', 'department': 'Data Analytics', 'qualification': 'Masters', 'age': 31}\n"
     ]
    }
   ],
   "source": [
    "## Querying documents abased on equalent value\n",
    "for record in empinfo.find({'firstname':'Gowri'}):\n",
    "    print(record)"
   ]
  },
  {
   "cell_type": "code",
   "execution_count": 51,
   "metadata": {},
   "outputs": [
    {
     "name": "stdout",
     "output_type": "stream",
     "text": [
      "{'_id': ObjectId('5f12e275b0e5829743abd0b4'), 'firstname': 'Gowri', 'secondname': 'Sankar', 'department': 'Data Analytics', 'qualification': 'Masters', 'age': 31}\n",
      "{'_id': ObjectId('5f12e275b0e5829743abd0b5'), 'firstname': 'Saravana', 'secondname': 'Kuram', 'department': 'DataEngineer', 'qualification': 'Phd', 'age': 37, 'Mobile': '98435'}\n",
      "{'_id': ObjectId('5f12e275b0e5829743abd0b6'), 'firstname': 'Aathi', 'secondname': 'Raj', 'department': 'Data Analytics', 'qualification': 'Masters', 'age': 35}\n"
     ]
    }
   ],
   "source": [
    "## Query documents using query operators($in)\n",
    "for record in empinfo.find({'qualification':{'$in':['Masters','Phd']}}):\n",
    "    print(record)"
   ]
  },
  {
   "cell_type": "code",
   "execution_count": 55,
   "metadata": {},
   "outputs": [
    {
     "name": "stdout",
     "output_type": "stream",
     "text": [
      "{'_id': ObjectId('5f12e275b0e5829743abd0b4'), 'firstname': 'Gowri', 'secondname': 'Sankar', 'department': 'Data Analytics', 'qualification': 'Masters', 'age': 31}\n"
     ]
    }
   ],
   "source": [
    "## Querying documents using operators --lower than($lt)\n",
    "for record in empinfo.find({'qualification':'Masters','age':{'$lt':32}}):\n",
    "    print(record)"
   ]
  },
  {
   "cell_type": "code",
   "execution_count": 56,
   "metadata": {},
   "outputs": [
    {
     "name": "stdout",
     "output_type": "stream",
     "text": [
      "{'_id': ObjectId('5f12e275b0e5829743abd0b6'), 'firstname': 'Aathi', 'secondname': 'Raj', 'department': 'Data Analytics', 'qualification': 'Masters', 'age': 35}\n"
     ]
    }
   ],
   "source": [
    "## Querying documents using operators -- Greater than($gt)\n",
    "for record in empinfo.find({'qualification':'Masters','age':{'$gt':32}}):\n",
    "    print(record)"
   ]
  },
  {
   "cell_type": "code",
   "execution_count": 61,
   "metadata": {},
   "outputs": [
    {
     "name": "stdout",
     "output_type": "stream",
     "text": [
      "{'_id': ObjectId('5f12e275b0e5829743abd0b6'), 'firstname': 'Aathi', 'secondname': 'Raj', 'department': 'Data Analytics', 'qualification': 'Masters', 'age': 35}\n"
     ]
    }
   ],
   "source": [
    "## Querying documents using operators and $and\n",
    "for record in empinfo.find({'$and':[{'qualification':'Masters'},{'age':{'$gt':32}}]}):\n",
    "    print(record)\n"
   ]
  },
  {
   "cell_type": "code",
   "execution_count": 62,
   "metadata": {},
   "outputs": [
    {
     "name": "stdout",
     "output_type": "stream",
     "text": [
      "{'_id': ObjectId('5f12e274b0e5829743abd0b3'), 'firstname': 'Udaya', 'secondname': 'Shangar', 'department': 'DataScience', 'role': 'Data Scientist', 'qualification': 'BE', 'age': 33}\n",
      "{'_id': ObjectId('5f12e275b0e5829743abd0b4'), 'firstname': 'Gowri', 'secondname': 'Sankar', 'department': 'Data Analytics', 'qualification': 'Masters', 'age': 31}\n",
      "{'_id': ObjectId('5f12e275b0e5829743abd0b5'), 'firstname': 'Saravana', 'secondname': 'Kuram', 'department': 'DataEngineer', 'qualification': 'Phd', 'age': 37, 'Mobile': '98435'}\n",
      "{'_id': ObjectId('5f12e275b0e5829743abd0b6'), 'firstname': 'Aathi', 'secondname': 'Raj', 'department': 'Data Analytics', 'qualification': 'Masters', 'age': 35}\n"
     ]
    }
   ],
   "source": [
    "## Querying documents using operators and $or\n",
    "for record in empinfo.find({'$or':[{'qualification':'Masters'},{'age':{'$gt':32}}]}):\n",
    "    print(record)"
   ]
  },
  {
   "cell_type": "code",
   "execution_count": 63,
   "metadata": {},
   "outputs": [],
   "source": [
    "## Creating another collection\n",
    "inventory = mydb.inventory"
   ]
  },
  {
   "cell_type": "code",
   "execution_count": 79,
   "metadata": {},
   "outputs": [
    {
     "data": {
      "text/plain": [
       "<pymongo.results.InsertManyResult at 0x10986c6e0>"
      ]
     },
     "execution_count": 79,
     "metadata": {},
     "output_type": "execute_result"
    }
   ],
   "source": [
    "## creating records and inserting in the new collection\n",
    "inventrec =[{'item': \"journal\", 'qty': 25, 'size': { 'h': 14, 'w': 21,'uom': \"cm\" }, 'status': \"A\"},\n",
    "             {'item': \"notebook\", 'qty': 50,'size': { 'h': 8.5, 'w': 11,'uom': \"in\" },'status': \"A\"},\n",
    "             {'item': \"paper\", 'qty': 100, 'size': { 'h': 8.5, 'w': 11,'uom': \"in\" },'status': \"D\"},\n",
    "             {'item': \"planner\", 'qty': 75, 'size': { 'h': 22.85,'w': 30,'uom': \"cm\" },'status': \"D\"},\n",
    "             {'item': \"postcard\", 'qty': 45, 'size': { 'h': 10, 'w': 15.25,'uom': \"cm\" },'status': \"A\"}]\n",
    "    \n",
    "inventory.insert_many(inventrec)"
   ]
  },
  {
   "cell_type": "code",
   "execution_count": 85,
   "metadata": {},
   "outputs": [
    {
     "name": "stdout",
     "output_type": "stream",
     "text": [
      "{'_id': ObjectId('5f12eb02b0e5829743abd0bd'), 'item': 'notebook', 'qty': 50, 'size': {'h': 8.5, 'w': 11, 'uom': 'in'}, 'status': 'A'}\n",
      "{'_id': ObjectId('5f12eb02b0e5829743abd0be'), 'item': 'paper', 'qty': 100, 'size': {'h': 8.5, 'w': 11, 'uom': 'in'}, 'status': 'D'}\n"
     ]
    }
   ],
   "source": [
    "## querying using nested records\n",
    "for record in inventory.find({'size': { 'h': 8.5, 'w': 11,'uom': \"in\" }}):\n",
    "                              print(record)"
   ]
  },
  {
   "cell_type": "code",
   "execution_count": null,
   "metadata": {},
   "outputs": [],
   "source": []
  }
 ],
 "metadata": {
  "kernelspec": {
   "display_name": "Python 3",
   "language": "python",
   "name": "python3"
  },
  "language_info": {
   "codemirror_mode": {
    "name": "ipython",
    "version": 3
   },
   "file_extension": ".py",
   "mimetype": "text/x-python",
   "name": "python",
   "nbconvert_exporter": "python",
   "pygments_lexer": "ipython3",
   "version": "3.7.6"
  }
 },
 "nbformat": 4,
 "nbformat_minor": 4
}
